{
 "cells": [
  {
   "cell_type": "code",
   "execution_count": 42,
   "metadata": {},
   "outputs": [],
   "source": [
    "import sqlite3\n",
    "import pandas as pd"
   ]
  },
  {
   "cell_type": "code",
   "execution_count": 43,
   "metadata": {},
   "outputs": [],
   "source": [
    "# SQLite 데이터베이스에 연결\n",
    "conn = sqlite3.connect('bobaedream.db')"
   ]
  },
  {
   "cell_type": "code",
   "execution_count": 44,
   "metadata": {},
   "outputs": [],
   "source": [
    "# SQL 쿼리 작성\n",
    "query = '''\n",
    "WITH DistinctTitles AS (\n",
    "    SELECT post_id, Date, Time, Title, Body,\n",
    "           ROW_NUMBER() OVER (PARTITION BY Title ORDER BY Date) AS row_num\n",
    "    FROM bobaedream_load_result\n",
    "    WHERE Title LIKE '%누수%' OR Body LIKE '%누수%'\n",
    ")\n",
    "SELECT post_id, Date, Time, Title, Body\n",
    "FROM DistinctTitles\n",
    "WHERE row_num = 1\n",
    "ORDER BY Date;\n",
    "\n",
    "'''"
   ]
  },
  {
   "cell_type": "code",
   "execution_count": 45,
   "metadata": {},
   "outputs": [],
   "source": [
    "# 쿼리 실행 및 결과를 데이터프레임으로 변환\n",
    "df_result = pd.read_sql_query(query, conn)\n",
    "\n",
    "# 데이터베이스 연결 종료\n",
    "conn.close()"
   ]
  },
  {
   "cell_type": "code",
   "execution_count": 46,
   "metadata": {},
   "outputs": [
    {
     "data": {
      "text/html": [
       "<div>\n",
       "<style scoped>\n",
       "    .dataframe tbody tr th:only-of-type {\n",
       "        vertical-align: middle;\n",
       "    }\n",
       "\n",
       "    .dataframe tbody tr th {\n",
       "        vertical-align: top;\n",
       "    }\n",
       "\n",
       "    .dataframe thead th {\n",
       "        text-align: right;\n",
       "    }\n",
       "</style>\n",
       "<table border=\"1\" class=\"dataframe\">\n",
       "  <thead>\n",
       "    <tr style=\"text-align: right;\">\n",
       "      <th></th>\n",
       "      <th>post_id</th>\n",
       "      <th>Date</th>\n",
       "      <th>Time</th>\n",
       "      <th>Title</th>\n",
       "      <th>Body</th>\n",
       "    </tr>\n",
       "  </thead>\n",
       "  <tbody>\n",
       "    <tr>\n",
       "      <th>0</th>\n",
       "      <td>236</td>\n",
       "      <td>2023-09-21</td>\n",
       "      <td>00:20</td>\n",
       "      <td>아이오닉6 운행시 주의사항(feat.레몬법)</td>\n",
       "      <td>Video Player is loading.Play VideoPauseUnmuteC...</td>\n",
       "    </tr>\n",
       "    <tr>\n",
       "      <th>1</th>\n",
       "      <td>239</td>\n",
       "      <td>2023-10-27</td>\n",
       "      <td>11:26</td>\n",
       "      <td>아이오닉 6 누수 = 캐스퍼 누수 닮은꼴</td>\n",
       "      <td>캐스퍼 누수사태를 그렇게 보고도 정신못차린 현대차...아이오닉 6 에어컨필터로 유입...</td>\n",
       "    </tr>\n",
       "    <tr>\n",
       "      <th>2</th>\n",
       "      <td>242</td>\n",
       "      <td>2023-11-01</td>\n",
       "      <td>13:15</td>\n",
       "      <td>아이오닉6 누수 관련해서 혹시 현대쪽에서 연락받으신분?</td>\n",
       "      <td>https://imnews.imbc.com/replay/2023/nwdesk/art...</td>\n",
       "    </tr>\n",
       "  </tbody>\n",
       "</table>\n",
       "</div>"
      ],
      "text/plain": [
       "   post_id        Date   Time                           Title  \\\n",
       "0      236  2023-09-21  00:20        아이오닉6 운행시 주의사항(feat.레몬법)   \n",
       "1      239  2023-10-27  11:26          아이오닉 6 누수 = 캐스퍼 누수 닮은꼴   \n",
       "2      242  2023-11-01  13:15  아이오닉6 누수 관련해서 혹시 현대쪽에서 연락받으신분?   \n",
       "\n",
       "                                                Body  \n",
       "0  Video Player is loading.Play VideoPauseUnmuteC...  \n",
       "1  캐스퍼 누수사태를 그렇게 보고도 정신못차린 현대차...아이오닉 6 에어컨필터로 유입...  \n",
       "2  https://imnews.imbc.com/replay/2023/nwdesk/art...  "
      ]
     },
     "execution_count": 46,
     "metadata": {},
     "output_type": "execute_result"
    }
   ],
   "source": [
    "df_result"
   ]
  },
  {
   "cell_type": "code",
   "execution_count": null,
   "metadata": {},
   "outputs": [],
   "source": []
  }
 ],
 "metadata": {
  "kernelspec": {
   "display_name": ".venv",
   "language": "python",
   "name": "python3"
  },
  "language_info": {
   "codemirror_mode": {
    "name": "ipython",
    "version": 3
   },
   "file_extension": ".py",
   "mimetype": "text/x-python",
   "name": "python",
   "nbconvert_exporter": "python",
   "pygments_lexer": "ipython3",
   "version": "3.12.4"
  }
 },
 "nbformat": 4,
 "nbformat_minor": 2
}
