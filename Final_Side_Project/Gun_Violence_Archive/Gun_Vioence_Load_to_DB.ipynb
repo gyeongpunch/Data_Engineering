{
 "cells": [
  {
   "cell_type": "code",
   "execution_count": 3,
   "metadata": {},
   "outputs": [],
   "source": [
    "import pandas as pd\n",
    "import sqlite3"
   ]
  },
  {
   "cell_type": "markdown",
   "metadata": {},
   "source": [
    "### Transform 완료된 데이터 csv파일 불러오기"
   ]
  },
  {
   "cell_type": "code",
   "execution_count": 15,
   "metadata": {},
   "outputs": [
    {
     "name": "stdout",
     "output_type": "stream",
     "text": [
      "6546\n"
     ]
    }
   ],
   "source": [
    "total_df = pd.read_csv('transform_result.csv')\n",
    "total_df\n",
    "print(len(total_df))"
   ]
  },
  {
   "cell_type": "markdown",
   "metadata": {},
   "source": [
    "### SQLite 사용해서 DB에 Load하기"
   ]
  },
  {
   "cell_type": "code",
   "execution_count": 10,
   "metadata": {},
   "outputs": [],
   "source": [
    "conn = sqlite3.connect('Gun_Violence_Case.db')\n",
    "cursor = conn.cursor()\n",
    "\n",
    "cursor.execute('''\n",
    "    CREATE TABLE IF NOT EXISTS Gun_Violence_DATA(\n",
    "        IncidentID INTEGER,\n",
    "        IncidentDate TEXT,\n",
    "        State TEXT,\n",
    "        City_or_Country TEXT,\n",
    "        Address TEXT,\n",
    "        Victims_Killed INTEGER,\n",
    "        Victims_Injured INTEGER,\n",
    "        Suspects_Killed INTEGER,\n",
    "        Suspects_Injured INTEGER,\n",
    "        Suspects_Arrested INTEGER,\n",
    "        Operations TEXT,\n",
    "        Timestamp TEXT,\n",
    "        Latitude  REAL,\n",
    "        Longitude REAL\n",
    "    )\n",
    "\n",
    "''')\n",
    "#데이터베이스에 저장, 이미 있으면 덮어쓰기\n",
    "total_df.to_sql('Gun_Violence_DATA',conn,if_exists='replace',index=False)\n",
    "conn.close() # 데이터베이스 연결 종료"
   ]
  },
  {
   "cell_type": "markdown",
   "metadata": {},
   "source": [
    "### DB 접속해서 업로드된 데이터 확인"
   ]
  },
  {
   "cell_type": "code",
   "execution_count": 12,
   "metadata": {},
   "outputs": [
    {
     "name": "stdout",
     "output_type": "stream",
     "text": [
      "6546\n"
     ]
    }
   ],
   "source": [
    "conn = sqlite3.connect('Gun_Violence_Case.db')\n",
    "cursor = conn.cursor()\n",
    "cursor.execute(''' \n",
    "    SELECT COUNT(*)\n",
    "    FROM Gun_Violence_DATA\n",
    "''')\n",
    "\n",
    "row_count = cursor.fetchone()[0]\n",
    "print(row_count)\n",
    "\n",
    "conn.close()"
   ]
  }
 ],
 "metadata": {
  "kernelspec": {
   "display_name": "base",
   "language": "python",
   "name": "python3"
  },
  "language_info": {
   "codemirror_mode": {
    "name": "ipython",
    "version": 3
   },
   "file_extension": ".py",
   "mimetype": "text/x-python",
   "name": "python",
   "nbconvert_exporter": "python",
   "pygments_lexer": "ipython3",
   "version": "3.12.4"
  }
 },
 "nbformat": 4,
 "nbformat_minor": 2
}
